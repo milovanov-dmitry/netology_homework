{
 "cells": [
  {
   "cell_type": "markdown",
   "metadata": {},
   "source": [
    "### Задание 1\n",
    "Печатные газеты использовали свой формат дат для каждого выпуска. Для каждой газеты из списка напишите формат указанной даты для перевода в объект datetime:\n",
    "The Moscow Times - Wednesday, October 2, 2002\n",
    "The Guardian - Friday, 11.10.13\n",
    "Daily News - Thursday, 18 August 1977\n"
   ]
  },
  {
   "cell_type": "code",
   "execution_count": 20,
   "metadata": {},
   "outputs": [
    {
     "name": "stdout",
     "output_type": "stream",
     "text": [
      "2002-10-02 00:00:00\n",
      "2013-10-11 00:00:00\n",
      "1977-08-18 00:00:00\n"
     ]
    }
   ],
   "source": [
    "from datetime import datetime\n",
    "\n",
    "newspaper_1 =  'The Moscow Times - Wednesday, October 2, 2002'\n",
    "newspaper_1 =  datetime.strptime('The Moscow Times - Wednesday, October 2, 2002', 'The Moscow Times - %A, %B %d, %Y')\n",
    "print(newspaper_1)\n",
    "\n",
    "newspaper_2 = 'The Guardian - Friday, 11.10.13'\n",
    "newspaper_2 = datetime.strptime('The Guardian - Friday, 11.10.13', 'The Guardian - %A, %d.%m.%y')\n",
    "print(newspaper_2)\n",
    "\n",
    "newspaper_3 = 'Daily News - Thursday, 18 August 1977'\n",
    "newspaper_3 = datetime.strptime('Daily News - Thursday, 18 August 1977', 'Daily News - %A, %d %B %Y')\n",
    "print(newspaper_3)"
   ]
  },
  {
   "cell_type": "markdown",
   "metadata": {},
   "source": [
    "### Задание 2\n",
    "Дан поток дат в формате YYYY-MM-DD, в которых встречаются некорректные значения:\n",
    "stream = ['2018-04-02', '2018-02-29', '2018-19-02']\n",
    "\n",
    "Напишите функцию, которая проверяет эти даты на корректность. Т. е. для каждой даты возвращает True (дата корректна) или False (некорректная дата). "
   ]
  },
  {
   "cell_type": "code",
   "execution_count": 55,
   "metadata": {},
   "outputs": [],
   "source": [
    "stream = ['2018-04-02', '2018-02-29', '2018-19-02']\n"
   ]
  },
  {
   "cell_type": "code",
   "execution_count": 56,
   "metadata": {},
   "outputs": [],
   "source": [
    "# 1 вариант\n",
    "def check_date(year, month, day):\n",
    "    correctDate = None\n",
    "    try:\n",
    "        newDate = datetime(year, month, day)\n",
    "        correctDate = True\n",
    "    except ValueError:\n",
    "        correctDate = False\n",
    "    return correctDate\n",
    "    "
   ]
  },
  {
   "cell_type": "code",
   "execution_count": 63,
   "metadata": {},
   "outputs": [
    {
     "name": "stdout",
     "output_type": "stream",
     "text": [
      "True\n",
      "False\n",
      "False\n"
     ]
    }
   ],
   "source": [
    "for date in stream:\n",
    "    date = date.split('-')\n",
    "    print(check_date(int(date[0]), int(date[1]), int(date[2])))\n",
    "    "
   ]
  },
  {
   "cell_type": "code",
   "execution_count": 59,
   "metadata": {},
   "outputs": [],
   "source": [
    "# 2 вариант\n",
    "from dateutil.parser import parse\n",
    "def is_valid_date(date):\n",
    "    if date:\n",
    "        try:\n",
    "            parse(date)\n",
    "            return True\n",
    "        except Exception as e:\n",
    "            return False\n",
    "    return False"
   ]
  },
  {
   "cell_type": "code",
   "execution_count": 64,
   "metadata": {},
   "outputs": [
    {
     "name": "stdout",
     "output_type": "stream",
     "text": [
      "True\n",
      "False\n",
      "False\n"
     ]
    }
   ],
   "source": [
    "for date in stream:\n",
    "    print(is_valid_date(date))"
   ]
  },
  {
   "cell_type": "markdown",
   "metadata": {},
   "source": [
    "### Задание 3\n",
    "Напишите функцию date_range, которая возвращает список дат за период от start_date до end_date. Даты должны вводиться в формате YYYY-MM-DD. В случае неверного формата или при start_date > end_date должен возвращаться пустой список."
   ]
  },
  {
   "cell_type": "code",
   "execution_count": null,
   "metadata": {},
   "outputs": [],
   "source": []
  }
 ],
 "metadata": {
  "kernelspec": {
   "display_name": "Python 3",
   "language": "python",
   "name": "python3"
  },
  "language_info": {
   "codemirror_mode": {
    "name": "ipython",
    "version": 3
   },
   "file_extension": ".py",
   "mimetype": "text/x-python",
   "name": "python",
   "nbconvert_exporter": "python",
   "pygments_lexer": "ipython3",
   "version": "3.7.4"
  }
 },
 "nbformat": 4,
 "nbformat_minor": 2
}
