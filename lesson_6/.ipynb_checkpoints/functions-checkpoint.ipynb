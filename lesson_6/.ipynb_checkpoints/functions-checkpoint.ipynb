{
 "cells": [
  {
   "cell_type": "markdown",
   "metadata": {},
   "source": [
    "Вы работаете секретарем и вам постоянно приходят различные документы. Вы должны быть очень внимательны, чтобы не потерять ни один документ. Каталог документов хранится в следующем виде:"
   ]
  },
  {
   "cell_type": "code",
   "execution_count": null,
   "metadata": {},
   "outputs": [],
   "source": [
    "documents = [\n",
    "    {'type': 'passport', 'number': '2207 876234', 'name': 'Василий Гупкин'},\n",
    "    {'type': 'invoice', 'number': '11-2', 'name': 'Геннадий Покемонов'},\n",
    "    {'type': 'insurance', 'number': '10006', 'name': 'Аристарх Павлов'}\n",
    "]"
   ]
  },
  {
   "cell_type": "markdown",
   "metadata": {},
   "source": [
    "Перечень полок, на которых находятся документы хранится в следующем виде:"
   ]
  },
  {
   "cell_type": "code",
   "execution_count": null,
   "metadata": {},
   "outputs": [],
   "source": [
    "directories = {\n",
    "    '1': ['2207 876234', '11-2'],\n",
    "    '2': ['10006'],\n",
    "    '3': []\n",
    "}\n"
   ]
  },
  {
   "cell_type": "markdown",
   "metadata": {},
   "source": [
    "## Необходимо реализовать пользовательские команды (внимание! это не название функций, которые должны быть выразительными, а команды, которые вводит пользователь, чтобы получить необходимый результат):\n",
    "  \n",
    "- p – people – команда, которая спросит номер документа и выведет имя человека, которому он принадлежит;  \n",
    "- s – shelf – команда, которая спросит номер документа и выведет номер полки, на которой он находится  \n",
    "*Правильно обработайте ситуации, когда пользователь будет вводить несуществующий документ*.\n",
    "- l – list – команда, которая выведет список всех документов в формате   \n",
    "**passport \"2207 876234\" \"Василий Гупкин\"**  \n",
    "- as – add shelf – команда, которая спросит номер новой полки и добавит ее в перечень. *Предусмотрите случай, когда пользователь добавляет полку, которая уже существует*.\n",
    "- d – delete – команда, которая спросит номер документа и удалит его из каталога и из перечня полок. *Предусмотрите сценарий, когда пользователь вводит несуществующий документ*;  \n",
    "- m – move – команда, которая спросит номер документа и целевую полку и переместит его с текущей полки на целевую. *Корректно обработайте кейсы, когда пользователь пытается переместить несуществующий документ или переместить документ на несуществующую полку*;  \n",
    "- a – add – команда, которая добавит новый документ в каталог и в перечень полок, спросив его номер, тип, имя владельца и номер полки, на котором он будет храниться. *Корректно обработайте ситуацию, когда пользователь будет пытаться добавить документ на несуществующую полку*."
   ]
  },
  {
   "cell_type": "code",
   "execution_count": null,
   "metadata": {},
   "outputs": [],
   "source": [
    "def person_number():\n",
    "    number_document = input('Введите номер документа: ')\n",
    "    for document in documents:\n",
    "        if number_document ==  document.get('number'):\n",
    "            return document.get('name')\n",
    "    else:\n",
    "        return 'Такого документа нет'\n",
    "    \n",
    "   \n",
    "\n",
    "  "
   ]
  },
  {
   "cell_type": "code",
   "execution_count": null,
   "metadata": {},
   "outputs": [],
   "source": [
    "def number_shelf():\n",
    "    numbers = input('Введите номер полки: ')\n",
    "    for key, value in directories.items():\n",
    "        if numbers in value:\n",
    "            print(key)\n",
    "            break\n",
    "    else:\n",
    "        print('такой полки нет')"
   ]
  },
  {
   "cell_type": "code",
   "execution_count": null,
   "metadata": {},
   "outputs": [],
   "source": [
    "def list_():\n",
    "    for value in documents:\n",
    "        print(f'{value[\"type\"]} \"{value[\"number\"]}\" \"{value[\"name\"]}\"')"
   ]
  },
  {
   "cell_type": "code",
   "execution_count": null,
   "metadata": {},
   "outputs": [],
   "source": [
    "def add_shelf():\n",
    "    number_new_shelf = input()\n",
    "    if number_new_shelf not in directories.keys():\n",
    "        directories[number_new_shelf]=[]\n",
    "        print(directories)\n",
    "    else:\n",
    "        print('Такая полка есть')"
   ]
  },
  {
   "cell_type": "code",
   "execution_count": null,
   "metadata": {},
   "outputs": [],
   "source": [
    "def delete_documents():\n",
    "    number_document = input('Введите номер документа: ')\n",
    "    for document in documents:\n",
    "        if number_document in document['number']:\n",
    "            documents.remove(document)\n",
    "            return documents\n",
    "    else: \n",
    "        return 'Номер не найден'\n",
    "        \n",
    "def delete_shelf():\n",
    "    number_document = input('Введите номер документа: ')\n",
    "    for value in directories.values():\n",
    "        if number_document in value:\n",
    "            value.remove(number_document)\n",
    "            return directories\n",
    "    else:\n",
    "        return 'Номер не найден'\n",
    "            \n",
    "        \n",
    "            \n",
    "    \n",
    "def delete():\n",
    "    return delete_documents(), delete_shelf()      "
   ]
  },
  {
   "cell_type": "code",
   "execution_count": null,
   "metadata": {},
   "outputs": [],
   "source": [
    "def move():\n",
    "    number_document = input('Введите номер документа: ')\n",
    "    for key, value in directories.items():\n",
    "        if number_document in value:\n",
    "            directories[key].remove(number_document)\n",
    "            number_target_shelf = input('Введите номер полки: ')\n",
    "            if number_target_shelf not in directories.keys():\n",
    "                return 'Такой полки нет'\n",
    "            if number_target_shelf in directories.keys():\n",
    "                directories[number_target_shelf].append(number_document)\n",
    "                return directories\n",
    "            print('Полка отсутствует')\n",
    "    print('Такого документа нет')"
   ]
  },
  {
   "cell_type": "code",
   "execution_count": null,
   "metadata": {},
   "outputs": [],
   "source": [
    "def add_document():\n",
    "    dict_ = {}\n",
    "    number_shelf = input('Введите номер полки: ')\n",
    "    type_input = input('Введите тип: ')\n",
    "    number_input = input('Введите документ: ')\n",
    "    name_input = input('Введите имя: ')\n",
    "    dict_ = {'type': type_input, 'number': number_input, 'name': name_input}\n",
    "    for keys in directories.keys():\n",
    "        if number_shelf in directories.keys():\n",
    "            return 'Документ уже на полке'\n",
    "        if number_shelf not in directories.keys():\n",
    "            directories[number_shelf] = number_input.split(',')\n",
    "            documents.append(dict_)\n",
    "            return documents, directories\n",
    "    print('Такой полки нет')"
   ]
  },
  {
   "cell_type": "code",
   "execution_count": null,
   "metadata": {},
   "outputs": [],
   "source": [
    "def main():\n",
    "    while True:\n",
    "        user_input = input('Введите команду: ')\n",
    "        if user_input == 'p':\n",
    "            print(person_number()) \n",
    "        elif user_input == 's':\n",
    "            number_shelf()\n",
    "        elif user_input == 'l':\n",
    "            list_()\n",
    "        elif user_input == 'as':\n",
    "            add_shelf()\n",
    "        elif user_input == 'd':\n",
    "            print(delete())    \n",
    "        elif user_input == 'm':\n",
    "            print(move())\n",
    "        elif user_input == 'a':\n",
    "            add_document()\n",
    "        elif user_input == 'q':\n",
    "            break\n",
    "            \n",
    "main()        "
   ]
  }
 ],
 "metadata": {
  "kernelspec": {
   "display_name": "Python 3",
   "language": "python",
   "name": "python3"
  },
  "language_info": {
   "codemirror_mode": {
    "name": "ipython",
    "version": 3
   },
   "file_extension": ".py",
   "mimetype": "text/x-python",
   "name": "python",
   "nbconvert_exporter": "python",
   "pygments_lexer": "ipython3",
   "version": "3.7.4"
  }
 },
 "nbformat": 4,
 "nbformat_minor": 2
}
